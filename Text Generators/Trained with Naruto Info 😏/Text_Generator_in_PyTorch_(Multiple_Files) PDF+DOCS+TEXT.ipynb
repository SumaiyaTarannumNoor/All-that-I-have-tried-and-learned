{
  "nbformat": 4,
  "nbformat_minor": 0,
  "metadata": {
    "colab": {
      "provenance": []
    },
    "kernelspec": {
      "name": "python3",
      "display_name": "Python 3"
    },
    "language_info": {
      "name": "python"
    }
  },
  "cells": [
    {
      "cell_type": "code",
      "execution_count": null,
      "metadata": {
        "id": "5UOMpNQtBZYf"
      },
      "outputs": [],
      "source": [
        "import torch\n",
        "import torch.nn as nn\n",
        "import numpy as np\n",
        "from torch.utils.data import TensorDataset, DataLoader"
      ]
    },
    {
      "cell_type": "code",
      "source": [
        "with open('Naruto.txt', 'r', encoding='utf-8') as f:\n",
        "    txt_content = f.read()"
      ],
      "metadata": {
        "id": "Wy4h6aGqyaso"
      },
      "execution_count": null,
      "outputs": []
    },
    {
      "cell_type": "code",
      "source": [
        "! pip install PyPDF2\n",
        "! pip install python-docx"
      ],
      "metadata": {
        "colab": {
          "base_uri": "https://localhost:8080/"
        },
        "id": "N7PrdnPnyg6Q",
        "outputId": "d2549723-20e2-4c22-8ef2-39aa89baf333"
      },
      "execution_count": null,
      "outputs": [
        {
          "output_type": "stream",
          "name": "stdout",
          "text": [
            "Requirement already satisfied: PyPDF2 in /usr/local/lib/python3.11/dist-packages (3.0.1)\n",
            "Requirement already satisfied: python-docx in /usr/local/lib/python3.11/dist-packages (1.2.0)\n",
            "Requirement already satisfied: lxml>=3.1.0 in /usr/local/lib/python3.11/dist-packages (from python-docx) (5.4.0)\n",
            "Requirement already satisfied: typing_extensions>=4.9.0 in /usr/local/lib/python3.11/dist-packages (from python-docx) (4.14.0)\n"
          ]
        }
      ]
    },
    {
      "cell_type": "code",
      "source": [
        "import PyPDF2\n",
        "\n",
        "pdf_content = \"\"\n",
        "with open('Sakura.pdf', 'rb') as f:\n",
        "    reader = PyPDF2.PdfReader(f)\n",
        "    for page in reader.pages:\n",
        "        pdf_content += page.extract_text() or \"\""
      ],
      "metadata": {
        "id": "BulNlUMNywXZ"
      },
      "execution_count": null,
      "outputs": []
    },
    {
      "cell_type": "code",
      "source": [
        "import docx\n",
        "\n",
        "def read_docx(filename):\n",
        "    doc = docx.Document(filename)\n",
        "    return \"\\n\".join([para.text for para in doc.paragraphs])\n",
        "\n",
        "docx_content = read_docx('Sasuke.docx')"
      ],
      "metadata": {
        "id": "9CMUW2u2yqCY"
      },
      "execution_count": null,
      "outputs": []
    },
    {
      "cell_type": "code",
      "source": [
        "text = txt_content + pdf_content + docx_content"
      ],
      "metadata": {
        "id": "n4p5XvpXy0fP"
      },
      "execution_count": null,
      "outputs": []
    },
    {
      "cell_type": "code",
      "source": [
        "chars = sorted(list(set(text)))  # Extract unique characters from the text\n",
        "char_to_index = {char: i for i, char in enumerate(chars)}  # Map characters to indices\n",
        "index_to_char = {i: char for i, char in enumerate(chars)}"
      ],
      "metadata": {
        "id": "7M6NDzxSF8TT"
      },
      "execution_count": null,
      "outputs": []
    },
    {
      "cell_type": "code",
      "source": [
        "seq_length = 3\n",
        "sequences = []\n",
        "labels = []"
      ],
      "metadata": {
        "id": "tDbPLtA_Gkk9"
      },
      "execution_count": null,
      "outputs": []
    },
    {
      "cell_type": "code",
      "source": [
        "for i in range(len(text) - seq_length):\n",
        "    seq = text[i:i + seq_length]  # Sequence of characters\n",
        "    label = text[i + seq_length]  # The next character after the sequence\n",
        "    sequences.append([char_to_index[char] for char in seq])  # Convert each char to its index\n",
        "    labels.append(char_to_index[label])  # Convert the label char to its index"
      ],
      "metadata": {
        "id": "tM-EqeEiGwCK"
      },
      "execution_count": null,
      "outputs": []
    },
    {
      "cell_type": "code",
      "source": [
        "x = np.array(sequences)\n",
        "y = np.array(labels)"
      ],
      "metadata": {
        "id": "exT8wtRMHK-p"
      },
      "execution_count": null,
      "outputs": []
    },
    {
      "cell_type": "code",
      "source": [
        "x_tensor = torch.from_numpy(x)\n",
        "y_tensor = torch.from_numpy(y)"
      ],
      "metadata": {
        "id": "Ip-dJ1uJHTmR"
      },
      "execution_count": null,
      "outputs": []
    },
    {
      "cell_type": "code",
      "source": [
        "x_one_hot = torch.nn.functional.one_hot(x_tensor, num_classes = len(chars)).float()"
      ],
      "metadata": {
        "id": "1BZ2RMDaHdTN"
      },
      "execution_count": null,
      "outputs": []
    },
    {
      "cell_type": "code",
      "source": [
        "dataset = TensorDataset(x_one_hot, y_tensor)\n",
        "batch_size = 1\n",
        "dataloader = DataLoader(dataset, batch_size=batch_size, shuffle=True)"
      ],
      "metadata": {
        "id": "tADRyEGFH4O8"
      },
      "execution_count": null,
      "outputs": []
    },
    {
      "cell_type": "code",
      "source": [
        "class CharLSTM(nn.Module):\n",
        "  def __init__(self, input_size, hidden_size, num_layers, num_classes):\n",
        "     super(CharLSTM, self).__init__()\n",
        "     self.lstm = nn.LSTM(input_size, hidden_size, num_layers, batch_first=True)\n",
        "     self.fc = nn.Linear(hidden_size, num_classes)\n",
        "  def forward(self, x):\n",
        "     out, _ = self.lstm(x)\n",
        "     out = out[:, -1, :]\n",
        "     out = self.fc(out)\n",
        "     return out\n"
      ],
      "metadata": {
        "id": "lp2ZQEBhIP5T"
      },
      "execution_count": null,
      "outputs": []
    },
    {
      "cell_type": "code",
      "source": [
        "input_size = len(chars)\n",
        "hidden_size = 160\n",
        "num_layers = 6\n",
        "num_classes = len(chars)\n",
        "num_epochs = 300\n",
        "learning_rate = 0.001"
      ],
      "metadata": {
        "id": "QZlp1DI5JT0h"
      },
      "execution_count": null,
      "outputs": []
    },
    {
      "cell_type": "code",
      "source": [
        "model = CharLSTM(input_size, hidden_size, num_layers, num_classes)\n",
        "optimizer = torch.optim.Adam(model.parameters(), lr=learning_rate)\n",
        "criterion = nn.CrossEntropyLoss()"
      ],
      "metadata": {
        "id": "u9VWMH2vKlzE"
      },
      "execution_count": null,
      "outputs": []
    },
    {
      "cell_type": "code",
      "source": [
        "for epoch in range(num_epochs):\n",
        "  total_loss = 0\n",
        "  for batch_x, batch_y in dataloader:\n",
        "    optimizer.zero_grad()\n",
        "    outputs = model(batch_x)\n",
        "    loss = criterion(outputs, batch_y)\n",
        "    loss.backward()\n",
        "    optimizer.step()\n",
        "    total_loss += loss.item()\n",
        "  avg_loss = total_loss/len(dataloader)\n",
        "  print(f\"Epoch {epoch+1}/{num_epochs}, Loss: {avg_loss: .4f}\")"
      ],
      "metadata": {
        "colab": {
          "base_uri": "https://localhost:8080/"
        },
        "id": "E7UBJVx4K7u5",
        "outputId": "7ea6717d-3345-4cb7-8f54-7e9c241c2020"
      },
      "execution_count": null,
      "outputs": [
        {
          "metadata": {
            "tags": null
          },
          "name": "stdout",
          "output_type": "stream",
          "text": [
            "Epoch 1/300, Loss:  3.1655\n",
            "Epoch 2/300, Loss:  2.7632\n",
            "Epoch 3/300, Loss:  2.4978\n",
            "Epoch 4/300, Loss:  2.3635\n",
            "Epoch 5/300, Loss:  2.2763\n",
            "Epoch 6/300, Loss:  2.2174\n",
            "Epoch 7/300, Loss:  2.1583\n",
            "Epoch 8/300, Loss:  2.1035\n",
            "Epoch 9/300, Loss:  2.0670\n",
            "Epoch 10/300, Loss:  2.0135\n",
            "Epoch 11/300, Loss:  1.9779\n",
            "Epoch 12/300, Loss:  1.9407\n",
            "Epoch 13/300, Loss:  1.9088\n",
            "Epoch 14/300, Loss:  1.8844\n",
            "Epoch 15/300, Loss:  1.8365\n",
            "Epoch 16/300, Loss:  1.8068\n",
            "Epoch 17/300, Loss:  1.7778\n",
            "Epoch 18/300, Loss:  1.7556\n",
            "Epoch 19/300, Loss:  1.7217\n",
            "Epoch 20/300, Loss:  1.6952\n",
            "Epoch 21/300, Loss:  1.6722\n",
            "Epoch 22/300, Loss:  1.6451\n",
            "Epoch 23/300, Loss:  1.6280\n"
          ]
        }
      ]
    },
    {
      "cell_type": "code",
      "source": [
        "def generate_text(model, start_seq, length, char_to_index, index_to_char):\n",
        "  model.eval()\n",
        "  seq = [char_to_index[c] for c in start_seq]\n",
        "  generated = start_seq\n",
        "  for _ in range(length):\n",
        "    x = torch.tensor([seq[-seq_length:]])\n",
        "    x_onehot = torch.nn.functional.one_hot(x, num_classes=len(chars)).float()\n",
        "    with torch.no_grad():\n",
        "      out = model(x_onehot)\n",
        "      pred = out.argmax(dim=1).item()\n",
        "    generated += index_to_char[pred]\n",
        "    seq.append(pred)\n",
        "  return generated"
      ],
      "metadata": {
        "id": "TOTsqFmeL6A1"
      },
      "execution_count": null,
      "outputs": []
    },
    {
      "cell_type": "code",
      "source": [
        "print(\"Generated Text: \")\n",
        "print(generate_text(model, \"Once\", 100, char_to_index, index_to_char))"
      ],
      "metadata": {
        "id": "NLKTqfgl534D"
      },
      "execution_count": null,
      "outputs": []
    },
    {
      "cell_type": "markdown",
      "source": [
        "# Exporting Model and Vocab"
      ],
      "metadata": {
        "id": "Mkofyvjh5i1_"
      }
    },
    {
      "cell_type": "code",
      "source": [
        "import torch\n",
        "import pickle\n",
        "\n",
        "# Save model\n",
        "torch.save(model.state_dict(), \"text_generator_model.pth\")\n",
        "\n",
        "# Save vocab and mappings\n",
        "with open(\"vocab.pkl\", \"wb\") as f:\n",
        "    # Save the list of unique characters, which represents the vocabulary\n",
        "    pickle.dump(chars, f)\n",
        "\n",
        "with open(\"char_to_idx.pkl\", \"wb\") as f:\n",
        "    pickle.dump(char_to_index, f) # Changed char_to_idx to char_to_index\n",
        "\n",
        "with open(\"idx_to_char.pkl\", \"wb\") as f:\n",
        "    pickle.dump(index_to_char, f) # Changed idx_to_char to index_to_char\n",
        "\n",
        "print(\"✅ Model and mappings exported successfully.\")"
      ],
      "metadata": {
        "id": "xcQR3irVNY9v"
      },
      "execution_count": null,
      "outputs": []
    },
    {
      "cell_type": "markdown",
      "source": [
        "# Text Generation Function"
      ],
      "metadata": {
        "id": "08VooC8H5noL"
      }
    },
    {
      "cell_type": "code",
      "source": [
        "torch.save(model.state_dict(), \"text_generator_model.pth\")\n",
        "with open(\"vocab.pkl\", \"wb\") as f:\n",
        "    pickle.dump(chars, f)\n",
        "with open(\"char_to_idx.pkl\", \"wb\") as f:\n",
        "    pickle.dump(char_to_index, f)\n",
        "with open(\"idx_to_char.pkl\", \"wb\") as f:\n",
        "    pickle.dump(index_to_char, f)"
      ],
      "metadata": {
        "id": "o99xHTvb5qlD"
      },
      "execution_count": null,
      "outputs": []
    },
    {
      "cell_type": "markdown",
      "source": [
        "# CLI Support"
      ],
      "metadata": {
        "id": "yvbZwKy25v2K"
      }
    },
    {
      "cell_type": "code",
      "source": [
        "if __name__ == \"__main__\":\n",
        "    prompt = input(\"Enter a blog title or starting text: \")\n",
        "    print(\"\\nGenerated Blog:\\n\")\n",
        "    print(generate_text(prompt, 500))\n"
      ],
      "metadata": {
        "id": "pXeHlJUX5xbg"
      },
      "execution_count": null,
      "outputs": []
    }
  ]
}